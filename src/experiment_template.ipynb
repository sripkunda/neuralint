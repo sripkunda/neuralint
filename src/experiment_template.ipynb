{
 "cells": [
  {
   "cell_type": "code",
   "execution_count": 1,
   "metadata": {},
   "outputs": [
    {
     "data": {
      "image/png": "[encoded data removed]",
      "text/plain": [
       "<Figure size 640x480 with 1 Axes>"
      ]
     },
     "metadata": {},
     "output_type": "display_data"
    },
    {
     "name": "stdout",
     "output_type": "stream",
     "text": [
      "CUDA Available: False\n"
     ]
    }
   ],
   "source": [
    "from data_utils import generate_data_from_function\n",
    "from experiment_utils import generate_legendre_inner_product_integrand, product_of_legendre_polynomials\n",
    "import numpy as np\n",
    "import matplotlib.pyplot as plt\n",
    "import torch\n",
    "\n",
    "f = lambda x: np.sqrt(2) * np.sin(4 * np.pi * x) + np.sqrt(3) * np.cos(6 * np.pi * x) + x\n",
    "T, X = generate_data_from_function(f, num_samples=500, sparsity=0.3, noise_std=0.04)\n",
    "time_values = np.linspace(0, 1, T.shape[1])\n",
    "\n",
    "plt.plot(T, X, \"o\")\n",
    "plt.show()\n",
    "\n",
    "print(f\"CUDA Available: {torch.cuda.is_available()}\")  # Should return True"
   ]
  },
  {
   "cell_type": "code",
   "execution_count": null,
   "metadata": {},
   "outputs": [],
   "source": [
    "from neuralint import NeuralInt\n",
    "from data_utils import get_dataloaders\n",
    "from neuralint_utils import load_model, train\n",
    "\n",
    "dataloaders = get_dataloaders(T, X)\n",
    "model = NeuralInt(input_dim=X.shape[1])\n",
    "optimizer = torch.optim.Adam(model.parameters(), lr=3e-4, weight_decay=1e-8)\n",
    "epoch, loss = load_model(model, optimizer=optimizer)\n",
    "train(model, optimizer, dataloaders[\"train\"], dataloaders[\"validate\"], num_epochs=500, starting_epoch = epoch, best_val_loss = loss)"
   ]
  },
  {
   "cell_type": "code",
   "execution_count": null,
   "metadata": {},
   "outputs": [],
   "source": [
    "from neuralint import get_imputation_from_checkpoint\n",
    "\n",
    "subset = dataloaders[\"test\"].dataset\n",
    "T_test, X_test, _ = subset.dataset[subset.indices]\n",
    "\n",
    "X_imputed_transformer, X_imputed_neuralint, integration_fn = get_imputation_from_checkpoint(T_test, X_test)"
   ]
  },
  {
   "cell_type": "code",
   "execution_count": null,
   "metadata": {},
   "outputs": [],
   "source": [
    "X_imputed_mean_neuralint = torch.mean(X_imputed_neuralint, axis=0).detach().numpy()\n",
    "X_imputed_mean_transformer = torch.mean(X_imputed_transformer, axis=0).detach().numpy()"
   ]
  },
  {
   "cell_type": "code",
   "execution_count": null,
   "metadata": {},
   "outputs": [],
   "source": [
    "np_imputed_neuralint = X_imputed_neuralint[0].detach().numpy()\n",
    "\n",
    "# Compute MSE using PyTorch\n",
    "mse_neuralint = torch.nn.functional.mse_loss(\n",
    "    torch.tensor(np_imputed_neuralint), torch.tensor(f(time_values))\n",
    ").item()\n",
    "\n",
    "mse_transformer = torch.nn.functional.mse_loss(\n",
    "    torch.tensor(np_imputed_neuralint), torch.tensor(f(time_values))\n",
    ").item()\n",
    "\n",
    "# Create figure with subplots\n",
    "fig, axes = plt.subplots(1, 3, figsize=(15, 5))\n",
    "\n",
    "# Plot NeuralInt with reference to True Function\n",
    "axes[0].plot(time_values, np_imputed_neuralint, color=\"black\", label=\"Diff(NeuralInt(t))\")\n",
    "axes[0].plot(time_values, f(time_values), linestyle=\"dashed\", color=\"gray\", alpha=0.5, label=\"X(t) (True Function, Reference)\")\n",
    "axes[0].plot(time_values, X[0], \"o\", color=\"orange\", label=\"Sampled Points\")\n",
    "axes[0].set_title(\"Diff(NeuralInt(t))\")\n",
    "axes[0].set_xlabel(\"t\")\n",
    "axes[0].set_ylabel(\"X(t)\")\n",
    "axes[0].legend()\n",
    "axes[0].text(0.5, -0.2, f\"MSE: {mse_neuralint:.6f}\", ha='center', transform=axes[0].transAxes, fontsize=12)\n",
    "\n",
    "# Plot Transformer with reference to True Function\n",
    "axes[1].plot(time_values, np_imputed_neuralint, color=\"blue\", label=\"Transformer(t)\")\n",
    "axes[1].plot(time_values, f(time_values), linestyle=\"dashed\", color=\"gray\", alpha=0.5, label=\"X(t) (True Function, Reference)\")\n",
    "axes[1].plot(time_values, X[0], \"o\", color=\"orange\", label=\"Sampled Points\")\n",
    "axes[1].set_title(\"Transformer\")\n",
    "axes[1].set_xlabel(\"t\")\n",
    "axes[1].legend()\n",
    "axes[1].text(0.5, -0.2, f\"MSE: {mse_transformer:.6f}\", ha='center', transform=axes[1].transAxes, fontsize=12)\n",
    "\n",
    "# Plot Actual Function with references to NeuralInt and Transformer\n",
    "axes[2].plot(time_values, f(time_values), color=\"red\", label=\"X(t) (True Function)\")\n",
    "axes[2].plot(time_values, X[0], \"o\", color=\"orange\", label=\"Sampled Points\")\n",
    "axes[2].set_title(\"X(t) (True Function)\")\n",
    "axes[2].set_xlabel(\"t\")\n",
    "axes[2].legend()\n",
    "\n",
    "# Adjust layout\n",
    "plt.tight_layout()\n",
    "plt.show()\n"
   ]
  },
  {
   "cell_type": "code",
   "execution_count": null,
   "metadata": {},
   "outputs": [],
   "source": [
    "mean_integration_function = torch.mean(integration_fn, axis=0)\n",
    "true_integral = lambda x: (3 * np.pi * x**2 + 3 * np.sqrt(2) * np.sin(2 * np.pi * x)**2 + np.sqrt(3) * np.sin(6 * np.pi * x)) / (6 * np.pi)\n",
    "\n",
    "# Convert PyTorch tensor to NumPy for plotting\n",
    "mean_integration_np = mean_integration_function.detach().numpy()\n",
    "true_integral_np = true_integral(time_values)\n",
    "\n",
    "# Compute Mean Squared Error (MSE) using PyTorch\n",
    "mse = torch.nn.functional.mse_loss(\n",
    "    torch.tensor(mean_integration_np), torch.tensor(true_integral_np)\n",
    ").item()\n",
    "\n",
    "# Plot both functions side by side\n",
    "fig, axs = plt.subplots(1, 2, figsize=(12, 5))\n",
    "\n",
    "# Plot Mean Integration Function with faded dashed True Integral\n",
    "axs[0].plot(time_values, mean_integration_np, label=\"Mean Intg(t)\", color=\"blue\")\n",
    "axs[0].plot(time_values, true_integral_np, linestyle=\"dashed\", color=\"gray\", alpha=0.5, label=\"True Integral (Reference)\")\n",
    "axs[0].set_title(\"Mean Intg(t)\")\n",
    "axs[0].set_xlabel(\"Time\")\n",
    "axs[0].set_ylabel(\"Value\")\n",
    "axs[0].legend()\n",
    "\n",
    "# Plot True Integral with faded dashed Mean Integration Function\n",
    "axs[1].plot(time_values, true_integral_np, label=\"True Integral\", color=\"red\")\n",
    "axs[1].plot(time_values, mean_integration_np, linestyle=\"dashed\", color=\"gray\", alpha=0.5, label=\"Mean Intg(t) (Reference)\")\n",
    "axs[1].set_title(\"True Integral\")\n",
    "axs[1].set_xlabel(\"Time\")\n",
    "axs[1].set_ylabel(\"Value\")\n",
    "axs[1].legend()\n",
    "\n",
    "# Display the MSE at the bottom center of the figure\n",
    "fig.text(0.5, 0.01, f\"MSE: {mse:.6f}\", ha='center', fontsize=12)\n",
    "\n",
    "# Show the plots\n",
    "plt.tight_layout()\n",
    "plt.show()\n"
   ]
  }
 ],
 "metadata": {
  "kernelspec": {
   "display_name": "Python 3",
   "language": "python",
   "name": "python3"
  },
  "language_info": {
   "codemirror_mode": {
    "name": "ipython",
    "version": 3
   },
   "file_extension": ".py",
   "mimetype": "text/x-python",
   "name": "python",
   "nbconvert_exporter": "python",
   "pygments_lexer": "ipython3",
   "version": "3.13.2"
  }
 },
 "nbformat": 4,
 "nbformat_minor": 2
}
